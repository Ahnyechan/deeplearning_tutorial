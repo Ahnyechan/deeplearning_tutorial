{
 "cells": [
  {
   "cell_type": "markdown",
   "metadata": {},
   "source": [
    "##간단한 신경망 구현하기"
   ]
  },
  {
   "cell_type": "markdown",
   "metadata": {},
   "source": [
    "두 개의 층으로 이루어진 신경망 구현\n",
    "\n",
    "입력층: 1000차원 벡터를 입력으로 받음\n",
    "hidden layer 1: 100차원\n",
    "hidden layer 2: 10차원\n",
    "\n",
    "입력 데이터 갯수: 64개\n",
    "\n",
    "weight matrix 1 (입력층과 hidden layer 1사이) : 1000X100 행렬\n",
    "\n",
    "weight matrix 2 (hidden layer1과 hidden layer 2사이) : 100X10 행렬"
   ]
  },
  {
   "cell_type": "code",
   "execution_count": 4,
   "metadata": {
    "collapsed": false
   },
   "outputs": [],
   "source": [
    "import tensorflow as tf\n",
    "import numpy as np\n",
    "\n",
    "#ㅜㅜN: 데이터 갯수, D: 데이터 차원, H: 첫 번째 hidden layer 의 노드 수, C: 두 번째 hidden layer의 노드 수\n",
    "N, D, H, C = 64, 1000, 100, 10\n",
    "\n",
    "x = tf.placeholder(tf.float32, shape = [None, D], name='x')\n",
    "y = tf.placeholder(tf.float32, shape = [None, C], name ='y')\n",
    "\n",
    "#w1, w2 initialize\n",
    "w1 = tf.Variable(1e-3 * np.random.randn(D, H).astype(np.float32), name='w1')\n",
    "w2 = tf.Variable(1e-3 * np.random.randn(H, C).astype(np.float32), name='w2')\n",
    "\n",
    "#output 계산\n",
    "with tf.name_scope('scores') as scope:\n",
    "    a = tf.matmul(x, w1)\n",
    "    a_relu = tf.nn.relu(a)\n",
    "    scores = tf.matmul(a_relu, w2)\n",
    "\n",
    "#loss 계산, 엔트로피로 정의\n",
    "with tf.name_scope('loss') as scope:\n",
    "    probs = tf.nn.softmax(scores)\n",
    "    loss = -tf.reduce_sum(y * tf.log(probs))\n",
    "    \n",
    "loss_summary = tf.scalar_summary('loss', loss)\n",
    "w1_hist = tf.histogram_summary('w1', w1)\n",
    "w2_hist = tf.histogram_summary('w2', w2)\n",
    "\n",
    "#learning_rate 초기값 정의\n",
    "learning_rate = 1e-2\n",
    "#Gradient Decent 방법으로 모델 파라미터 학습\n",
    "train_step = tf.train.GradientDescentOptimizer(learning_rate).minimize(loss)\n",
    "\n",
    "xx = np.random.randn(N, D).astype(np.float32)\n",
    "yy = np.zeros([N,C]).astype(np.float32)\n",
    "yy[np.arange(N), np.random.randint(C, size=N)] = 1"
   ]
  },
  {
   "cell_type": "code",
   "execution_count": null,
   "metadata": {
    "collapsed": true
   },
   "outputs": [],
   "source": []
  },
  {
   "cell_type": "code",
   "execution_count": null,
   "metadata": {
    "collapsed": true
   },
   "outputs": [],
   "source": []
  }
 ],
 "metadata": {
  "kernelspec": {
   "display_name": "Python 2",
   "language": "python",
   "name": "python2"
  },
  "language_info": {
   "codemirror_mode": {
    "name": "ipython",
    "version": 2
   },
   "file_extension": ".py",
   "mimetype": "text/x-python",
   "name": "python",
   "nbconvert_exporter": "python",
   "pygments_lexer": "ipython2",
   "version": "2.7.6"
  }
 },
 "nbformat": 4,
 "nbformat_minor": 0
}
